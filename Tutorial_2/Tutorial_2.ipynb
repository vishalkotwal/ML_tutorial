{
  "nbformat": 4,
  "nbformat_minor": 0,
  "metadata": {
    "colab": {
      "name": "Tutorial_2.ipynb",
      "provenance": []
    },
    "kernelspec": {
      "name": "python3",
      "display_name": "Python 3"
    }
  },
  "cells": [
    {
      "cell_type": "code",
      "metadata": {
        "id": "idH3WQryIZCL"
      },
      "source": [
        "import matplotlib.pyplot as plt\r\n",
        "import numpy as np"
      ],
      "execution_count": 1,
      "outputs": []
    },
    {
      "cell_type": "code",
      "metadata": {
        "id": "lAvmwFOOQh68"
      },
      "source": [
        "X=[1,2,3]\r\n",
        "Y=[1.2,1.9,3.2]"
      ],
      "execution_count": 2,
      "outputs": []
    },
    {
      "cell_type": "code",
      "metadata": {
        "id": "o04buXEgQlkr"
      },
      "source": [
        "def Parameters(X,Y):\r\n",
        "  A=np.sum(Y)\r\n",
        "  B=np.sum(X)\r\n",
        "  N=len(X)\r\n",
        "  C=np.dot(X,Y)\r\n",
        "  D=np.dot(X,X)\r\n",
        "\r\n",
        "  w1 = (C*N - A*B) / (N*D - B*B)\r\n",
        "  w0 = (A-B*w1) / N \r\n",
        "  return [w0,w1]"
      ],
      "execution_count": 3,
      "outputs": []
    },
    {
      "cell_type": "code",
      "metadata": {
        "colab": {
          "base_uri": "https://localhost:8080/",
          "height": 283
        },
        "id": "px3CnsedQyOY",
        "outputId": "b061a027-7a4d-46d6-abbb-7ef1cdc9bb09"
      },
      "source": [
        "w0,w1=Parameters(X,Y)\r\n",
        "list1=[]\r\n",
        "for i in range(len(X)):\r\n",
        "  y = w0+w1*X[i]\r\n",
        "  list1.append(y)\r\n",
        "plt.scatter(X,Y,color = 'orangered')\r\n",
        "plt.plot(X,list1,color = 'teal')"
      ],
      "execution_count": 7,
      "outputs": [
        {
          "output_type": "execute_result",
          "data": {
            "text/plain": [
              "[<matplotlib.lines.Line2D at 0x7f87e9fdcd30>]"
            ]
          },
          "metadata": {
            "tags": []
          },
          "execution_count": 7
        },
        {
          "output_type": "display_data",
          "data": {
            "image/png": "[encoded data removed]",
            "text/plain": [
              "<Figure size 432x288 with 1 Axes>"
            ]
          },
          "metadata": {
            "tags": [],
            "needs_background": "light"
          }
        }
      ]
    },
    {
      "cell_type": "code",
      "metadata": {
        "id": "COF33YsQRKqI"
      },
      "source": [
        ""
      ],
      "execution_count": null,
      "outputs": []
    }
  ]
}